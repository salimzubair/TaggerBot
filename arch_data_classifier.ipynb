{
  "nbformat": 4,
  "nbformat_minor": 0,
  "metadata": {
    "kernelspec": {
      "display_name": "Python 3",
      "language": "python",
      "name": "python3"
    },
    "language_info": {
      "codemirror_mode": {
        "name": "ipython",
        "version": 3
      },
      "file_extension": ".py",
      "mimetype": "text/x-python",
      "name": "python",
      "nbconvert_exporter": "python",
      "pygments_lexer": "ipython3",
      "version": "3.7.3"
    },
    "colab": {
      "name": "arch-data-classifier.ipynb",
      "provenance": []
    }
  },
  "cells": [
    {
      "cell_type": "code",
      "metadata": {
        "id": "D3KKxfTMqXts",
        "colab_type": "code",
        "colab": {}
      },
      "source": [
        "#start tika server. The Tika Server is the Parser\n",
        "#java -jar \"path\\to\\tika-server-1.22.jar\""
      ],
      "execution_count": 0,
      "outputs": []
    },
    {
      "cell_type": "markdown",
      "metadata": {
        "id": "oUIFhCFcqXt-",
        "colab_type": "text"
      },
      "source": [
        "\n",
        "1. Reading Texts from Documents and Data Cleaning\n"
      ]
    },
    {
      "cell_type": "code",
      "metadata": {
        "id": "ST7NJomIqXuE",
        "colab_type": "code",
        "colab": {}
      },
      "source": [
        "#import necessary modules\n",
        "import tika\n",
        "tika.initVM()\n",
        "from tika import parser\n",
        "import pandas as pd\n",
        "import numpy as np\n",
        "import matplotlib.pyplot as plt\n",
        "import pickle\n",
        "import pytesseract\n",
        "pytesseract.pytesseract.tesseract_cmd = r\"C:\\Program Files (x86)\\Tesseract-OCR\\tesseract.exe\"\n",
        "from pdf2image import convert_from_path, convert_from_bytes\n",
        "from pdf2image.exceptions import (\n",
        "    PDFInfoNotInstalledError,\n",
        "    PDFPageCountError,\n",
        "    PDFSyntaxError)\n",
        "from sklearn.feature_extraction.text import CountVectorizer\n",
        "from sklearn.feature_extraction.text import TfidfVectorizer\n",
        "from sklearn.model_selection import train_test_split\n",
        "from sklearn.neighbors import KNeighborsClassifier \n",
        "from sklearn.feature_selection import chi2\n",
        "from sklearn.model_selection import cross_val_score\n",
        "from sklearn.metrics import classification_report\n",
        "from sklearn.metrics import confusion_matrix\n",
        "from sklearn.svm import SVC\n",
        "from sklearn.linear_model import LogisticRegression\n",
        "from sklearn.naive_bayes import MultinomialNB\n",
        "from sklearn.neural_network import MLPClassifier\n",
        "from sklearn.tree import DecisionTreeClassifier\n",
        "from sklearn.ensemble import RandomForestClassifier\n",
        "from sklearn.ensemble import BaggingClassifier\n",
        "from sklearn.model_selection import GridSearchCV\n",
        "from sklearn.preprocessing import MultiLabelBinarizer\n",
        "from sklearn.linear_model import LogisticRegression\n",
        "from sklearn.discriminant_analysis import LinearDiscriminantAnalysis\n",
        "from sklearn.svm import LinearSVC\n",
        "from sklearn.naive_bayes import MultinomialNB\n",
        "from sklearn import metrics"
      ],
      "execution_count": 0,
      "outputs": []
    },
    {
      "cell_type": "code",
      "metadata": {
        "id": "LXnSerZlqXuU",
        "colab_type": "code",
        "colab": {}
      },
      "source": [
        "#define a parameter for tika parsers. This declaration solves the status 422 server error\n",
        "headers = {'X-Tika-PDFextractInlineImages': 'true', \"X-Tika-OCRLanguage\": \"eng\"} "
      ],
      "execution_count": 0,
      "outputs": []
    },
    {
      "cell_type": "code",
      "metadata": {
        "id": "-1JEDKiYqXuk",
        "colab_type": "code",
        "colab": {}
      },
      "source": [
        "#import project data\n",
        "arch_df = pd.read_csv(r\"parsed-arch_data-training-data-2.csv\", encoding = \"ISO-8859-1\")"
      ],
      "execution_count": 0,
      "outputs": []
    },
    {
      "cell_type": "code",
      "metadata": {
        "id": "RTTuliOWqXu3",
        "colab_type": "code",
        "colab": {}
      },
      "source": [
        "#parse text from scanned files\n",
        "def ocr_pdf(file):\n",
        "    images = convert_from_path(file)\n",
        "    ocr_list = [pytesseract.image_to_string(x) for x in images]\n",
        "    ocr = ''\n",
        "    return ocr.join(ocr_list)"
      ],
      "execution_count": 0,
      "outputs": []
    },
    {
      "cell_type": "code",
      "metadata": {
        "id": "HOF1No5vqXvi",
        "colab_type": "code",
        "colab": {}
      },
      "source": [
        "#Run Tika Parser on Texts\n",
        "def return_parsed(paths):\n",
        "    try:\n",
        "        return parser.from_file(paths, headers=headers)\n",
        "    except:\n",
        "        return 'path error'"
      ],
      "execution_count": 0,
      "outputs": []
    },
    {
      "cell_type": "code",
      "metadata": {
        "id": "wrKTiBSKqXvz",
        "colab_type": "code",
        "colab": {}
      },
      "source": [
        "#Extract Text from files\n",
        "def return_texts(parsed, paths):\n",
        "    if 'content' in parsed and parsed['content'] is not None:\n",
        "        return parsed['content'] #extract 'content' from parsed texts\n",
        "    else:\n",
        "        try:\n",
        "            return ocr_pdf(paths) #if no 'content' from tika parser, try OCRing the document\n",
        "        except:\n",
        "            return \"no content\"   "
      ],
      "execution_count": 0,
      "outputs": []
    },
    {
      "cell_type": "code",
      "metadata": {
        "id": "xzqZ9o98qXv5",
        "colab_type": "code",
        "colab": {}
      },
      "source": [
        "#Remove trailing and leading whitespace\n",
        "def remove_whitespace(text):\n",
        "    return text.strip()"
      ],
      "execution_count": 0,
      "outputs": []
    },
    {
      "cell_type": "code",
      "metadata": {
        "id": "d8sggroeqXv-",
        "colab_type": "code",
        "colab": {}
      },
      "source": [
        "#Parse Files\n",
        "parsed = arch_df.apply(lambda row: return_parsed(row['Path']), axis = 1).compute()\n",
        "arch_df['Parsed'] = parsed "
      ],
      "execution_count": 0,
      "outputs": []
    },
    {
      "cell_type": "code",
      "metadata": {
        "id": "S1-_QyqrqXwM",
        "colab_type": "code",
        "colab": {}
      },
      "source": [
        "#Extract Text\n",
        "texts =  arch_df.apply(lambda row: return_texts(row['Parsed'], row['Path']), axis = 1).compute()\n",
        "arch_df['Texts'] = texts"
      ],
      "execution_count": 0,
      "outputs": []
    },
    {
      "cell_type": "code",
      "metadata": {
        "id": "ny4n7-v4qXwS",
        "colab_type": "code",
        "colab": {}
      },
      "source": [
        "#Drop rows with no text content\n",
        "no_content = arch_df[arch_df['Texts'] == 'no content'].index\n",
        "arch_df.drop(no_content, inplace=True)\n",
        "isnan = arch_df[arch_df['Arch_Data'].isna() == True].index\n",
        "arch_df.drop(isnan, inplace=True)"
      ],
      "execution_count": 0,
      "outputs": []
    },
    {
      "cell_type": "code",
      "metadata": {
        "id": "tFW3soD1qXwZ",
        "colab_type": "code",
        "colab": {}
      },
      "source": [
        "#Remove Whitespace from Arch Data Values\n",
        "Arch_Data = arch_df.apply(lambda row: remove_whitespace(row['Arch_Data']), axis = 1)\n",
        "arch_df['Arch_Data'] = Arch_Data"
      ],
      "execution_count": 0,
      "outputs": []
    },
    {
      "cell_type": "code",
      "metadata": {
        "id": "2znsPmY7qXwd",
        "colab_type": "code",
        "colab": {}
      },
      "source": [
        "#Save DataFrame as csv file\n",
        "arch_df.to_csv(r\"\\\\esri-shelf\\ESRIENVIROHUB\\TaggerBot\\parsed-arch_data-training-data-2.csv\")"
      ],
      "execution_count": 0,
      "outputs": []
    },
    {
      "cell_type": "code",
      "metadata": {
        "id": "k-bMwnmvqXwh",
        "colab_type": "code",
        "colab": {},
        "outputId": "119e3333-bd8a-497b-c58d-574a0b5f289f"
      },
      "source": [
        "arch_df.shape"
      ],
      "execution_count": 0,
      "outputs": [
        {
          "output_type": "execute_result",
          "data": {
            "text/plain": [
              "(962, 8)"
            ]
          },
          "metadata": {
            "tags": []
          },
          "execution_count": 11
        }
      ]
    },
    {
      "cell_type": "code",
      "metadata": {
        "id": "9dVPkQt8qXwk",
        "colab_type": "code",
        "colab": {},
        "outputId": "dc689ec2-e8ef-4ed3-c436-ecc5ab047931"
      },
      "source": [
        "#Plot of Document Samples Grouped by Arch Data\n",
        "fig = plt.figure(figsize=(8,6))\n",
        "arch_df.groupby('Arch_Data').Texts.count().plot.bar(ylim=0)\n",
        "plt.show()"
      ],
      "execution_count": 0,
      "outputs": [
        {
          "output_type": "display_data",
          "data": {
            "image/png": "[encoded data removed]",
            "text/plain": [
              "<Figure size 576x432 with 1 Axes>"
            ]
          },
          "metadata": {
            "tags": [],
            "needs_background": "light"
          }
        }
      ]
    },
    {
      "cell_type": "markdown",
      "metadata": {
        "id": "QGoqMAq0qXwt",
        "colab_type": "text"
      },
      "source": [
        "\n",
        "# 2. Model Training and Testing\n"
      ]
    },
    {
      "cell_type": "code",
      "metadata": {
        "id": "c1Y-dPBeqXwu",
        "colab_type": "code",
        "colab": {}
      },
      "source": [
        "#Create Vectorizer Object\n",
        "tfidf = TfidfVectorizer(sublinear_tf=True, min_df=5, norm='l2', encoding='latin-1', ngram_range=(1, 2), stop_words='english')"
      ],
      "execution_count": 0,
      "outputs": []
    },
    {
      "cell_type": "code",
      "metadata": {
        "id": "QrBFq4OlqXwz",
        "colab_type": "code",
        "colab": {}
      },
      "source": [
        "#create the ML labels by factorizing\n",
        "y, mappings =arch_df.Arch_Data.factorize()"
      ],
      "execution_count": 0,
      "outputs": []
    },
    {
      "cell_type": "code",
      "metadata": {
        "id": "nT1fKAFtqXw3",
        "colab_type": "code",
        "colab": {}
      },
      "source": [
        "#Define X value\n",
        "X = arch_df.Texts"
      ],
      "execution_count": 0,
      "outputs": []
    },
    {
      "cell_type": "code",
      "metadata": {
        "id": "LHDNHF2DqXw6",
        "colab_type": "code",
        "colab": {}
      },
      "source": [
        "#Split data into training set and test set\n",
        "X_train, X_test, y_train, y_test = train_test_split(X, y, test_size = 0.2, random_state=42, stratify=y)"
      ],
      "execution_count": 0,
      "outputs": []
    },
    {
      "cell_type": "code",
      "metadata": {
        "id": "LGwGKk_zqXxA",
        "colab_type": "code",
        "colab": {}
      },
      "source": [
        "#Vectorize X_train and X_test\n",
        "X_train = tfidf.fit_transform(X_train).toarray()\n",
        "X_test = tfidf.transform(X_test).toarray()"
      ],
      "execution_count": 0,
      "outputs": []
    },
    {
      "cell_type": "code",
      "metadata": {
        "id": "6Xb3wlAcqXxG",
        "colab_type": "code",
        "colab": {},
        "outputId": "f5f6188b-2343-402d-fb90-e3aad4d7b27f"
      },
      "source": [
        "# Create the list of alphas: alphas\n",
        "alphas = np.arange(0, 1, .1)\n",
        "\n",
        "# Define train_and_predict()\n",
        "def train_and_predict(alpha):\n",
        "    # Instantiate the classifier: nb_classifier\n",
        "    nb_classifier = MultinomialNB(alpha=alpha)\n",
        "    # Fit to the training data\n",
        "    nb_classifier.fit(X_train, y_train)\n",
        "    # Predict the labels: pred\n",
        "    pred = nb_classifier.predict(X_test)\n",
        "    # Compute accuracy: score\n",
        "    score = metrics.accuracy_score(y_test, pred)\n",
        "    return score\n",
        "\n",
        "# Iterate over the alphas and print the corresponding score\n",
        "for alpha in alphas:\n",
        "    print('Alpha: ', alpha)\n",
        "    print('Score: ', train_and_predict(alpha))\n",
        "    print()"
      ],
      "execution_count": 0,
      "outputs": [
        {
          "output_type": "stream",
          "text": [
            "Alpha:  0.0\n",
            "Score:  0.9689119170984456\n",
            "\n",
            "Alpha:  0.1\n",
            "Score:  0.9533678756476683\n",
            "\n",
            "Alpha:  0.2\n",
            "Score:  0.9637305699481865\n",
            "\n",
            "Alpha:  0.30000000000000004\n",
            "Score:  0.9637305699481865\n",
            "\n",
            "Alpha:  0.4\n",
            "Score:  0.9533678756476683\n",
            "\n",
            "Alpha:  0.5\n",
            "Score:  0.9430051813471503\n",
            "\n",
            "Alpha:  0.6000000000000001\n",
            "Score:  0.9378238341968912\n",
            "\n",
            "Alpha:  0.7000000000000001\n",
            "Score:  0.927461139896373\n",
            "\n",
            "Alpha:  0.8\n",
            "Score:  0.9119170984455959\n",
            "\n",
            "Alpha:  0.9\n",
            "Score:  0.9015544041450777\n",
            "\n"
          ],
          "name": "stdout"
        }
      ]
    },
    {
      "cell_type": "code",
      "metadata": {
        "id": "mA4tdhoVqXxN",
        "colab_type": "code",
        "colab": {},
        "outputId": "8db38e48-3d3a-4920-de94-543e411102a9"
      },
      "source": [
        "#Build, train and test classifier\n",
        "clf = MultinomialNB(alpha=0.0)\n",
        "clf.fit(X_train, y_train)\n",
        "accuracy = clf.score(X_test, y_test)\n",
        "print(accuracy)"
      ],
      "execution_count": 0,
      "outputs": [
        {
          "output_type": "execute_result",
          "data": {
            "text/plain": [
              "MultinomialNB(alpha=0.0, class_prior=None, fit_prior=True)"
            ]
          },
          "metadata": {
            "tags": []
          },
          "execution_count": 16
        }
      ]
    },
    {
      "cell_type": "code",
      "metadata": {
        "id": "NylML22bqXxR",
        "colab_type": "code",
        "colab": {},
        "outputId": "aa9004c7-466e-41f5-9da6-fb32c096422e"
      },
      "source": [
        "# Predict the labels of the test data: y_pred\n",
        "y_pred = clf.predict(X_test)\n",
        "\n",
        "# Generate the confusion matrix and classification report\n",
        "print(confusion_matrix(y_test, y_pred))\n",
        "print(classification_report(y_test, y_pred, target_names = mappings))"
      ],
      "execution_count": 0,
      "outputs": [
        {
          "output_type": "stream",
          "text": [
            "[[151   0]\n",
            " [  6  36]]\n",
            "              precision    recall  f1-score   support\n",
            "\n",
            "           n       0.96      1.00      0.98       151\n",
            "           y       1.00      0.86      0.92        42\n",
            "\n",
            "    accuracy                           0.97       193\n",
            "   macro avg       0.98      0.93      0.95       193\n",
            "weighted avg       0.97      0.97      0.97       193\n",
            "\n"
          ],
          "name": "stdout"
        }
      ]
    },
    {
      "cell_type": "code",
      "metadata": {
        "id": "NIE_ukaZqXxe",
        "colab_type": "code",
        "colab": {},
        "outputId": "4141af1b-888e-48df-cad9-42441653f898"
      },
      "source": [
        "#Chi-squared test to see the unigrams and bigrams most correlated with arch documents\n",
        "features_chi2 = chi2(X_train, y_train)\n",
        "indices = np.argsort(features_chi2[0])\n",
        "feature_names = np.array(tfidf.get_feature_names())[indices]\n",
        "unigrams = [v for v in feature_names if len(v.split(' ')) == 1]\n",
        "bigrams = [v for v in feature_names if len(v.split(' ')) == 2]\n",
        "print(\"  . Most correlated unigrams:\\n. {}\".format('\\n. '.join(unigrams[-20:])))\n",
        "print(\"  . Most correlated bigrams:\\n. {}\".format('\\n. '.join(bigrams[-20:])))"
      ],
      "execution_count": 0,
      "outputs": [
        {
          "output_type": "stream",
          "text": [
            "  . Most correlated unigrams:\n",
            ". choquette\n",
            ". heritage\n",
            ". culture\n",
            ". borden\n",
            ". raad\n",
            ". aoa\n",
            ". archaeologist\n",
            ". deposits\n",
            ". flake\n",
            ". precontact\n",
            ". archaeology\n",
            ". artifact\n",
            ". subsurface\n",
            ". artifacts\n",
            ". aia\n",
            ". hca\n",
            ". lithics\n",
            ". lithic\n",
            ". cultural\n",
            ". archaeological\n",
            "  . Most correlated bigrams:\n",
            ". site report07\n",
            ". report file\n",
            ". file archaeology\n",
            ". conservation act\n",
            ". surface lithics\n",
            ". heritage conservation\n",
            ". archaeological materials\n",
            ". archaeological work\n",
            ". recorded archaeological\n",
            ". archaeological remains\n",
            ". archaeological overview\n",
            ". overview assessment\n",
            ". previously recorded\n",
            ". archaeological impact\n",
            ". impact assessment\n",
            ". archaeological potential\n",
            ". archaeological site\n",
            ". cultural material\n",
            ". archaeological sites\n",
            ". archaeology branch\n"
          ],
          "name": "stdout"
        }
      ]
    },
    {
      "cell_type": "code",
      "metadata": {
        "id": "eyZ7wp-eqXxj",
        "colab_type": "code",
        "colab": {}
      },
      "source": [
        "#Re-define X using all available data\n",
        "X = tfidf.fit_transform(arch_df.Texts).toarray()"
      ],
      "execution_count": 0,
      "outputs": []
    },
    {
      "cell_type": "code",
      "metadata": {
        "id": "fYzzvy7GqXxq",
        "colab_type": "code",
        "colab": {}
      },
      "source": [
        "#Re-train classifier using all available data\n",
        "clf = MultinomialNB(alpha=0.0)\n",
        "clf.fit(X, y)"
      ],
      "execution_count": 0,
      "outputs": []
    },
    {
      "cell_type": "code",
      "metadata": {
        "id": "nArUJxmAqXxx",
        "colab_type": "code",
        "colab": {}
      },
      "source": [
        "#Save trained model\n",
        "model_save = r\"final-arch-model.sav\"\n",
        "pickle.dump(clf, open(model_save, 'wb'))"
      ],
      "execution_count": 0,
      "outputs": []
    },
    {
      "cell_type": "code",
      "metadata": {
        "id": "wmTn1y45qXx0",
        "colab_type": "code",
        "colab": {}
      },
      "source": [
        "#Open saved trained model and test\n",
        "loaded_model = pickle.load(open(model_save, 'rb'))\n",
        "accuracy = loaded_model.score(X_test, y_test)\n",
        "print(accuracy)"
      ],
      "execution_count": 0,
      "outputs": []
    }
  ]
}