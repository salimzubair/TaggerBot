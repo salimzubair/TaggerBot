{
  "nbformat": 4,
  "nbformat_minor": 0,
  "metadata": {
    "kernelspec": {
      "display_name": "Python 3",
      "language": "python",
      "name": "python3"
    },
    "language_info": {
      "codemirror_mode": {
        "name": "ipython",
        "version": 3
      },
      "file_extension": ".py",
      "mimetype": "text/x-python",
      "name": "python",
      "nbconvert_exporter": "python",
      "pygments_lexer": "ipython3",
      "version": "3.7.3"
    },
    "colab": {
      "name": "doc-type-classifier.ipynb",
      "provenance": []
    }
  },
  "cells": [
    {
      "cell_type": "code",
      "metadata": {
        "id": "KLDxKK1_qqxz",
        "colab_type": "code",
        "colab": {}
      },
      "source": [
        "#start tika server. The Tika Server is the Parser\n",
        "#java -jar \"path\\to\\tika-server-1.22.jar\""
      ],
      "execution_count": 0,
      "outputs": []
    },
    {
      "cell_type": "markdown",
      "metadata": {
        "id": "3KVWmUOtqqx5",
        "colab_type": "text"
      },
      "source": [
        "# 1. Reading Texts from Documents and Data Cleaning"
      ]
    },
    {
      "cell_type": "code",
      "metadata": {
        "id": "0lMLd_Tcqqx6",
        "colab_type": "code",
        "colab": {}
      },
      "source": [
        "#import necessary modules\n",
        "import tika\n",
        "tika.initVM()\n",
        "from tika import parser\n",
        "import pandas as pd\n",
        "import numpy as np\n",
        "import matplotlib.pyplot as plt\n",
        "import pickle\n",
        "import pytesseract\n",
        "pytesseract.pytesseract.tesseract_cmd = r\"C:\\Program Files (x86)\\Tesseract-OCR\\tesseract.exe\"\n",
        "from pdf2image import convert_from_path, convert_from_bytes\n",
        "from pdf2image.exceptions import (\n",
        "    PDFInfoNotInstalledError,\n",
        "    PDFPageCountError,\n",
        "    PDFSyntaxError)\n",
        "from sklearn.feature_extraction.text import CountVectorizer\n",
        "from sklearn.feature_extraction.text import TfidfVectorizer\n",
        "from sklearn.model_selection import train_test_split\n",
        "from sklearn.neighbors import KNeighborsClassifier \n",
        "from sklearn.feature_selection import chi2\n",
        "from sklearn.model_selection import cross_val_score\n",
        "from sklearn.metrics import classification_report\n",
        "from sklearn.metrics import confusion_matrix\n",
        "from sklearn.svm import SVC\n",
        "from sklearn.linear_model import LogisticRegression\n",
        "from sklearn.naive_bayes import MultinomialNB\n",
        "from sklearn.neural_network import MLPClassifier\n",
        "from sklearn.tree import DecisionTreeClassifier\n",
        "from sklearn.ensemble import RandomForestClassifier\n",
        "from sklearn.ensemble import BaggingClassifier\n",
        "from sklearn.model_selection import GridSearchCV\n",
        "from sklearn.preprocessing import MultiLabelBinarizer\n",
        "from sklearn.linear_model import LogisticRegression\n",
        "from sklearn.discriminant_analysis import LinearDiscriminantAnalysis\n",
        "from sklearn.svm import LinearSVC\n",
        "from sklearn.naive_bayes import MultinomialNB\n",
        "from sklearn import metrics\n",
        "import dask.dataframe as dd"
      ],
      "execution_count": 0,
      "outputs": []
    },
    {
      "cell_type": "code",
      "metadata": {
        "id": "JIW6ICdGqqyB",
        "colab_type": "code",
        "colab": {}
      },
      "source": [
        "#define a parameter for tika parsers. This declaration solves the status 422 server error\n",
        "headers = {'X-Tika-PDFextractInlineImages': 'true', \"X-Tika-OCRLanguage\": \"eng\"} "
      ],
      "execution_count": 0,
      "outputs": []
    },
    {
      "cell_type": "code",
      "metadata": {
        "id": "TSueLypbqqyI",
        "colab_type": "code",
        "colab": {}
      },
      "source": [
        "#Save dataframe as csv file\n",
        "doc_type_df = pd.read_csv(r\"parsed-doc-type-training-data-4.csv\", encoding = \"ISO-8859-1\")"
      ],
      "execution_count": 0,
      "outputs": []
    },
    {
      "cell_type": "code",
      "metadata": {
        "id": "_XmaZsrXqqyO",
        "colab_type": "code",
        "colab": {}
      },
      "source": [
        "#parse text from scanned files\n",
        "def ocr_pdf(file):\n",
        "    images = convert_from_path(file)\n",
        "    ocr_list = [pytesseract.image_to_string(x) for x in images]\n",
        "    ocr = ''\n",
        "    return ocr.join(ocr_list)"
      ],
      "execution_count": 0,
      "outputs": []
    },
    {
      "cell_type": "code",
      "metadata": {
        "id": "J1Bq1Mj2qqyU",
        "colab_type": "code",
        "colab": {}
      },
      "source": [
        "#Run Tika Parser on Texts\n",
        "def return_parsed(paths):\n",
        "    try:\n",
        "        return parser.from_file(paths, headers=headers)\n",
        "    except:\n",
        "        return 'path error'"
      ],
      "execution_count": 0,
      "outputs": []
    },
    {
      "cell_type": "code",
      "metadata": {
        "id": "NYWOZH9wqqyb",
        "colab_type": "code",
        "colab": {}
      },
      "source": [
        "#Extract Text Content of Parsed Documents. If Documents not parsed, OCR the document\n",
        "def return_texts(parsed, paths):\n",
        "    if 'content' in parsed and parsed['content'] is not None:\n",
        "        return parsed['content'] #extract 'content' from parsed texts\n",
        "    else:\n",
        "        try:\n",
        "            return ocr_pdf(paths) #if no 'content' from tika parser, try OCRing the document\n",
        "        except:\n",
        "            return \"no content\"   "
      ],
      "execution_count": 0,
      "outputs": []
    },
    {
      "cell_type": "code",
      "metadata": {
        "id": "bsMeoph3qqyf",
        "colab_type": "code",
        "colab": {}
      },
      "source": [
        "#Function to remove whitespaces from \n",
        "def remove_whitespace(text):\n",
        "    return text.strip()"
      ],
      "execution_count": 0,
      "outputs": []
    },
    {
      "cell_type": "code",
      "metadata": {
        "scrolled": false,
        "id": "9E2rcVjdqqyi",
        "colab_type": "code",
        "colab": {}
      },
      "source": [
        "#Apply function to parse documents\n",
        "doc_type_df = dd.from_pandas(doc_type_df, npartitions=5)\n",
        "parsed = doc_type_df.apply(lambda row: return_parsed(row['Path']), axis = 1).compute()\n",
        "doc_type_df['Parsed'] = parsed "
      ],
      "execution_count": 0,
      "outputs": []
    },
    {
      "cell_type": "code",
      "metadata": {
        "id": "9BGv3Q2-qqyo",
        "colab_type": "code",
        "colab": {}
      },
      "source": [
        "#Apply function to retrieve text or OCR documents\n",
        "texts =  doc_type_df.apply(lambda row: return_texts(row['Parsed'], row['Path']), axis = 1).compute()\n",
        "doc_type_df['Texts'] = texts\n",
        "doc_type_df = doc_type_df.compute()"
      ],
      "execution_count": 0,
      "outputs": []
    },
    {
      "cell_type": "code",
      "metadata": {
        "id": "qy3S3B5fqqyt",
        "colab_type": "code",
        "colab": {}
      },
      "source": [
        "#Apply function to remove whitespace from Document_Type field\n",
        "Document_Type = doc_type_df.apply(lambda row: remove_whitespace(row['Document_Type']), axis = 1)\n",
        "doc_type_df['Document_Type'] = Document_Type"
      ],
      "execution_count": 0,
      "outputs": []
    },
    {
      "cell_type": "code",
      "metadata": {
        "id": "EcPbU2Daqqy0",
        "colab_type": "code",
        "colab": {}
      },
      "source": [
        "#Drop rows with no text content\n",
        "no_content = doc_type_df[doc_type_df['Texts'] == 'no content'].index\n",
        "doc_type_df.drop(no_content, inplace=True)\n",
        "isnan = doc_type_df[doc_type_df['Document_Type'].isna() == True].index\n",
        "doc_type_df.drop(isnan, inplace=True)"
      ],
      "execution_count": 0,
      "outputs": []
    },
    {
      "cell_type": "code",
      "metadata": {
        "id": "TIjhyXUbqqy7",
        "colab_type": "code",
        "colab": {},
        "outputId": "7789b4a1-85a9-49fe-ece4-fd5862f6b537"
      },
      "source": [
        "doc_type_df.shape"
      ],
      "execution_count": 0,
      "outputs": [
        {
          "output_type": "execute_result",
          "data": {
            "text/plain": [
              "(1033, 5)"
            ]
          },
          "metadata": {
            "tags": []
          },
          "execution_count": 4
        }
      ]
    },
    {
      "cell_type": "code",
      "metadata": {
        "id": "bVEyX6GVqqy_",
        "colab_type": "code",
        "colab": {},
        "outputId": "96c96737-5752-49fb-c757-21ab75898689"
      },
      "source": [
        "\"\"\"Plot of Document Samples Grouped by Document Type\"\"\"\n",
        "fig = plt.figure(figsize=(8,6))\n",
        "doc_type_df.groupby('Document_Type').Texts.count().plot.bar(ylim=0)\n",
        "plt.show()"
      ],
      "execution_count": 0,
      "outputs": [
        {
          "output_type": "display_data",
          "data": {
            "image/png": "[encoded data removed]",
            "text/plain": [
              "<Figure size 576x432 with 1 Axes>"
            ]
          },
          "metadata": {
            "tags": [],
            "needs_background": "light"
          }
        }
      ]
    },
    {
      "cell_type": "markdown",
      "metadata": {
        "id": "IEJdMibWqqzE",
        "colab_type": "text"
      },
      "source": [
        "\n",
        "\n",
        "# 2. Model Training and Testing\n",
        "\n"
      ]
    },
    {
      "cell_type": "code",
      "metadata": {
        "id": "yhurflvXqqzF",
        "colab_type": "code",
        "colab": {}
      },
      "source": [
        "#Create Vectorizer Object\n",
        "tfidf = TfidfVectorizer(sublinear_tf=True, min_df=5, norm='l2', encoding='latin-1', ngram_range=(1, 2), stop_words='english')"
      ],
      "execution_count": 0,
      "outputs": []
    },
    {
      "cell_type": "code",
      "metadata": {
        "id": "GnEctR06qqzI",
        "colab_type": "code",
        "colab": {}
      },
      "source": [
        "#create the ML labels by factorizing\n",
        "y, mappings =doc_type_df.Document_Type.factorize()"
      ],
      "execution_count": 0,
      "outputs": []
    },
    {
      "cell_type": "code",
      "metadata": {
        "id": "wGQ1iX6mqqzL",
        "colab_type": "code",
        "colab": {}
      },
      "source": [
        "#test X value\n",
        "X = doc_type_df.Texts"
      ],
      "execution_count": 0,
      "outputs": []
    },
    {
      "cell_type": "code",
      "metadata": {
        "id": "aPcwpkQ8qqzR",
        "colab_type": "code",
        "colab": {}
      },
      "source": [
        "#Split data into training set and test set\n",
        "X_train, X_test, y_train, y_test = train_test_split(X, y, test_size = 0.2, random_state=42, stratify=y)"
      ],
      "execution_count": 0,
      "outputs": []
    },
    {
      "cell_type": "code",
      "metadata": {
        "id": "sEsxoKGSqqzV",
        "colab_type": "code",
        "colab": {}
      },
      "source": [
        "X_train = tfidf.fit_transform(X_train).toarray()\n",
        "X_test = tfidf.transform(X_test).toarray()"
      ],
      "execution_count": 0,
      "outputs": []
    },
    {
      "cell_type": "code",
      "metadata": {
        "id": "TnArTiWTqqzY",
        "colab_type": "code",
        "colab": {},
        "outputId": "c64665b8-580d-4973-e8d0-f80fbb2285f8"
      },
      "source": [
        "#train and test classifier\n",
        "clf = MLPClassifier()\n",
        "clf.fit(X_train, y_train)\n",
        "accuracy = clf.score(X_test, y_test)\n",
        "print(accuracy)"
      ],
      "execution_count": 0,
      "outputs": [
        {
          "output_type": "stream",
          "text": [
            "0.8357487922705314\n"
          ],
          "name": "stdout"
        }
      ]
    },
    {
      "cell_type": "code",
      "metadata": {
        "id": "AS0gid7Mqqzc",
        "colab_type": "code",
        "colab": {},
        "outputId": "d1e6add6-0e74-4986-9228-43c52c7a3c0d"
      },
      "source": [
        "# Predict the labels of the test data: y_pred\n",
        "y_pred = clf.predict(X_test)\n",
        "\n",
        "# Generate the confusion matrix and classification report\n",
        "print(confusion_matrix(y_test, y_pred))\n",
        "print(classification_report(y_test, y_pred, target_names = mappings))"
      ],
      "execution_count": 0,
      "outputs": [
        {
          "output_type": "stream",
          "text": [
            "[[92  0  0  1  0  0  0  0  1  0  0]\n",
            " [ 2  4  0  0  0  0  0  0  0  0  0]\n",
            " [ 1  0 27  0  0  0  0  0  0  0  0]\n",
            " [ 3  0  1 11  0  0  1  1  1  0  0]\n",
            " [ 2  1  1  0  4  0  1  0  0  0  0]\n",
            " [ 1  0  1  0  1  5  0  0  0  0  0]\n",
            " [ 6  0  0  1  1  0  6  0  1  1  0]\n",
            " [ 0  0  0  1  1  0  0  3  0  0  0]\n",
            " [ 1  0  0  0  0  0  0  0  4  0  0]\n",
            " [ 0  0  0  0  0  0  0  0  0  8  0]\n",
            " [ 1  0  0  0  0  0  0  0  0  0  9]]\n",
            "                                           precision    recall  f1-score   support\n",
            "\n",
            "                                  Reports       0.84      0.98      0.91        94\n",
            "Environmental Strategies, Policies, Plans       0.80      0.67      0.73         6\n",
            "    Permits and Regulatory Authorizations       0.90      0.96      0.93        28\n",
            "                       Project Management       0.79      0.61      0.69        18\n",
            "                 Standards and Procedures       0.57      0.44      0.50         9\n",
            "                        Compliance Checks       1.00      0.62      0.77         8\n",
            "         Recommendations and Instructions       0.75      0.38      0.50        16\n",
            "                 Checklists and Templates       0.75      0.60      0.67         5\n",
            "                   Environmental Datasets       0.57      0.80      0.67         5\n",
            "                 Training and Orientation       0.89      1.00      0.94         8\n",
            "                     Maps and Photographs       1.00      0.90      0.95        10\n",
            "\n",
            "                                 accuracy                           0.84       207\n",
            "                                macro avg       0.81      0.72      0.75       207\n",
            "                             weighted avg       0.83      0.84      0.82       207\n",
            "\n"
          ],
          "name": "stdout"
        }
      ]
    },
    {
      "cell_type": "code",
      "metadata": {
        "id": "uMhTKfteqqzg",
        "colab_type": "code",
        "colab": {}
      },
      "source": [
        "#Re-define X value using all available data\n",
        "X = tfidf.fit_transform(doc_type_df.Texts).toarray()"
      ],
      "execution_count": 0,
      "outputs": []
    },
    {
      "cell_type": "code",
      "metadata": {
        "id": "TIaIWb-lqqzk",
        "colab_type": "code",
        "colab": {}
      },
      "source": [
        "#Re-train classifier using all available data\n",
        "clf = MLPClassifier()\n",
        "clf.fit(X, y)"
      ],
      "execution_count": 0,
      "outputs": []
    },
    {
      "cell_type": "code",
      "metadata": {
        "id": "i7cylpwdqqzm",
        "colab_type": "code",
        "colab": {}
      },
      "source": [
        "#save trained model\n",
        "model_save = r\"\\\\esri-shelf\\ESRIENVIROHUB\\TaggerBot\\final-doc-type-model.sav\"\n",
        "pickle.dump(clf, open(model_save, 'wb'))"
      ],
      "execution_count": 0,
      "outputs": []
    },
    {
      "cell_type": "code",
      "metadata": {
        "id": "_wB41zMLqqzs",
        "colab_type": "code",
        "colab": {}
      },
      "source": [
        "#Open saved trained model and test\n",
        "loaded_model = pickle.load(open(model_save, 'rb'))\n",
        "accuracy = loaded_model.score(X_test, y_test)\n",
        "print(accuracy)"
      ],
      "execution_count": 0,
      "outputs": []
    },
    {
      "cell_type": "markdown",
      "metadata": {
        "id": "7ueu5T5pqqz5",
        "colab_type": "text"
      },
      "source": [
        "\n",
        "\n",
        "3. Hyper-parameter Optimization\n",
        "\n"
      ]
    },
    {
      "cell_type": "code",
      "metadata": {
        "id": "y59uB5hoqqz6",
        "colab_type": "code",
        "colab": {}
      },
      "source": [
        "\"\"\"HyperParameter Tuning for kNN. Choosing the best K Value\"\"\"\n",
        "# Setup arrays to store train and test accuracies\n",
        "neighbors = np.arange(1, 15)\n",
        "test_accuracy = np.empty(len(neighbors))\n",
        "\n",
        "# Loop over different values of k\n",
        "for i, k in enumerate(neighbors):\n",
        "    # Setup a k-NN Classifier with k neighbors: knn\n",
        "    knn = KNeighborsClassifier(n_neighbors=k)\n",
        "\n",
        "    # Fit the classifier to the training data\n",
        "    knn.fit(X_train, y_train)\n",
        "\n",
        "    #Compute accuracy on the testing set\n",
        "    test_accuracy[i] = knn.score(X_test, y_test)\n",
        "\n",
        "# Generate plot\n",
        "plt.title('k-NN: Varying Number of Neighbors')\n",
        "plt.plot(neighbors, test_accuracy, label = 'Testing Accuracy')\n",
        "plt.legend()\n",
        "plt.xlabel('Number of Neighbors')\n",
        "plt.ylabel('Accuracy')\n",
        "plt.show()"
      ],
      "execution_count": 0,
      "outputs": []
    },
    {
      "cell_type": "code",
      "metadata": {
        "id": "vfKfn_HOqqz-",
        "colab_type": "code",
        "colab": {},
        "outputId": "5db5fcb7-36ac-433f-c298-f653302bd3a4"
      },
      "source": [
        "\"\"\"Hyperparameter tuning for Logistic Regression\"\"\"\n",
        "\n",
        "# Import necessary modules\n",
        "from sklearn.linear_model import LogisticRegression\n",
        "from sklearn.model_selection import GridSearchCV\n",
        "\n",
        "# Setup the hyperparameter grid\n",
        "c_space = np.logspace(-5, 8, 15)\n",
        "param_grid = {'C': c_space}\n",
        "\n",
        "# Instantiate a logistic regression classifier: logreg\n",
        "logreg = LogisticRegression()\n",
        "\n",
        "# Instantiate the GridSearchCV object: logreg_cv\n",
        "logreg_cv = GridSearchCV(logreg, param_grid, cv=5)\n",
        "\n",
        "# Fit it to the data\n",
        "logreg_cv.fit(X,y)\n",
        "\n",
        "# Print the tuned parameters and score\n",
        "print(\"Tuned Logistic Regression Parameters: {}\".format(logreg_cv.best_params_)) \n",
        "print(\"Best score is {}\".format(logreg_cv.best_score_))"
      ],
      "execution_count": 0,
      "outputs": [
        {
          "output_type": "stream",
          "text": [
            "Tuned Logistic Regression Parameters: {'C': 19306.977288832535}\n",
            "Best score is 0.7159841479524438\n"
          ],
          "name": "stdout"
        }
      ]
    },
    {
      "cell_type": "code",
      "metadata": {
        "id": "BAw9quzCqq0D",
        "colab_type": "code",
        "colab": {},
        "outputId": "127c971b-f5d7-45f6-9428-85f72c699209"
      },
      "source": [
        "\"\"\"Hyperparameter tuning for SVC\"\"\"\n",
        "\n",
        "def svc_param_selection(X, y, nfolds):\n",
        "    Cs = [0.001, 0.01, 0.1, 1, 10]\n",
        "    gammas = [0.001, 0.01, 0.1, 1]\n",
        "    param_grid = {'C': Cs, 'gamma' : gammas}\n",
        "    grid_search = GridSearchCV(SVC(kernel='rbf'), param_grid, cv=nfolds)\n",
        "    grid_search.fit(X, y)\n",
        "    grid_search.best_params_\n",
        "    print(\"Tuned Logistic Regression Parameters: {}\".format(grid_search.best_params_)) \n",
        "    print(\"Best score is {}\".format(grid_search.best_score_))\n",
        "\n",
        "svc_param_selection(X, y, 3)"
      ],
      "execution_count": 0,
      "outputs": [
        {
          "output_type": "execute_result",
          "data": {
            "text/plain": [
              "{'C': 10, 'gamma': 0.1}"
            ]
          },
          "metadata": {
            "tags": []
          },
          "execution_count": 32
        }
      ]
    },
    {
      "cell_type": "code",
      "metadata": {
        "id": "UVDZpjruqq0G",
        "colab_type": "code",
        "colab": {},
        "outputId": "234d87ae-963a-4ec0-a428-6e0993478487"
      },
      "source": [
        "\"\"\"Hyperparameter tuning for Decision Tree Classifier\"\"\"\n",
        "from scipy.stats import randint\n",
        "from sklearn.tree import DecisionTreeClassifier\n",
        "from sklearn.model_selection import RandomizedSearchCV\n",
        "\n",
        "# Setup the parameters and distributions to sample from: param_dist\n",
        "param_dist = {\"max_depth\": range(1, 9),\n",
        "              \"max_features\": range(1, 9),\n",
        "              \"min_samples_leaf\": range(1, 9),\n",
        "              \"criterion\": [\"gini\", \"entropy\"]}\n",
        "\n",
        "# Instantiate a Decision Tree classifier: tree\n",
        "tree = DecisionTreeClassifier()\n",
        "\n",
        "# Instantiate the RandomizedSearchCV object: tree_cv\n",
        "tree_cv = GridSearchCV(tree, param_dist, cv=5)\n",
        "\n",
        "# Fit it to the data\n",
        "tree_cv.fit(X, y)\n",
        "\n",
        "# Print the tuned parameters and score\n",
        "print(\"Tuned Decision Tree Parameters: {}\".format(tree_cv.best_params_))\n",
        "print(\"Best score is {}\".format(tree_cv.best_score_))"
      ],
      "execution_count": 0,
      "outputs": [
        {
          "output_type": "stream",
          "text": [
            "Tuned Decision Tree Parameters: {'criterion': 'gini', 'max_depth': None, 'max_features': 8, 'min_samples_leaf': 3}\n",
            "Best score is 0.5165125495376486\n"
          ],
          "name": "stdout"
        }
      ]
    },
    {
      "cell_type": "code",
      "metadata": {
        "id": "2tGFAx-Kqq0M",
        "colab_type": "code",
        "colab": {}
      },
      "source": [
        "\"\"\"Hyperparameter tuning for SVC\"\"\"\n",
        "\n",
        "def mlp_param_selection(X, y, nfolds):\n",
        "    param_grid = {\n",
        "    'hidden_layer_sizes': [(sp_randint.rvs(100,600,1),sp_randint.rvs(100,600,1),), \n",
        "                                          (sp_randint.rvs(100,600,1),)],\n",
        "    'activation': ['tanh', 'relu', 'logistic'],\n",
        "    'solver': ['sgd', 'adam', 'lbfgs'],\n",
        "    'learning_rate': ['constant','adaptive']}\n",
        "    grid_search = GridSearchCV(MLPClassifier(), param_grid, cv=nfolds)\n",
        "    grid_search.fit(X, y)\n",
        "    grid_search.best_params_\n",
        "    print(\"MLP Classifier Parameters: {}\".format(grid_search.best_params_)) \n",
        "    print(\"Best score is {}\".format(grid_search.best_score_))\n",
        "\n",
        "mlp_param_selection(X, y, 2)"
      ],
      "execution_count": 0,
      "outputs": []
    }
  ]
}